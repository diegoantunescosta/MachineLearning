{
 "cells": [
  {
   "cell_type": "markdown",
   "id": "6627293b-b00d-424c-8ca8-e49edce02104",
   "metadata": {},
   "source": [
    "## Aprendizado de Máquina\n",
    "<p> SVM </p>"
   ]
  },
  {
   "cell_type": "code",
   "execution_count": 40,
   "id": "1aeae7c0-7231-4580-a7a9-20c72adc98fe",
   "metadata": {},
   "outputs": [],
   "source": [
    "import numpy as np\n",
    "import matplotlib.pyplot as plt\n",
    "from sklearn import svm, datasets"
   ]
  },
  {
   "cell_type": "code",
   "execution_count": 41,
   "id": "81841a53-6766-4a22-bdcf-fad32c24f0f3",
   "metadata": {},
   "outputs": [],
   "source": [
    "iris = datasets.load_iris()\n",
    "X = iris.data\n",
    "y = iris.target"
   ]
  },
  {
   "cell_type": "code",
   "execution_count": 53,
   "id": "c2617816-5ab3-42c9-9f61-531fa3669152",
   "metadata": {
    "tags": []
   },
   "outputs": [],
   "source": [
    "# Reduzindo para duas dimenções\n",
    "X = iris.data[:,:2]"
   ]
  },
  {
   "cell_type": "code",
   "execution_count": 54,
   "id": "cf970e9b-779b-4bf7-8063-84c3a7ac8fe9",
   "metadata": {},
   "outputs": [
    {
     "data": {
      "text/plain": [
       "SVC(kernel='linear')"
      ]
     },
     "execution_count": 54,
     "metadata": {},
     "output_type": "execute_result"
    }
   ],
   "source": [
    "# ajustar modelo \n",
    "svc = svm.SVC(kernel='linear', random_state=None)\n",
    "svc.fit(X,y)"
   ]
  },
  {
   "cell_type": "code",
   "execution_count": 55,
   "id": "b68a8385-5c19-4765-b610-0841a6b2bc1e",
   "metadata": {},
   "outputs": [],
   "source": [
    "# Preparando o ambiente para o gráfico\n",
    "x_min, x_max = X[:,0].min() -1, X[:,0].max() +1 \n",
    "y_min, y_max = X[:,0].min() -1, X[:,0].max() +1\n",
    "h = (x_max/ x_min)/100\n",
    "xx,yy= np.meshgrid(np.arange(x_min, x_max, h), np.arange(y_min, y_max, h))\n"
   ]
  },
  {
   "cell_type": "code",
   "execution_count": 61,
   "id": "dcbb5b41-de46-4784-adf9-56aa97f2417e",
   "metadata": {
    "tags": []
   },
   "outputs": [
    {
     "data": {
      "image/png": "[encoded data removed]",
      "text/plain": [
       "<Figure size 432x288 with 1 Axes>"
      ]
     },
     "metadata": {
      "needs_background": "light"
     },
     "output_type": "display_data"
    }
   ],
   "source": [
    "# Grafico dos hiperplanos\n",
    "plt.subplot(1,1,1)\n",
    "z = svc.predict(np.c_[xx.ravel(), yy.ravel()])\n",
    "z = z.reshape(xx.shape)\n",
    "plt.contour(xx,yy,z,cmap= plt.cm.Paired)\n",
    "plt.scatter(X[:,0], X[:,1], c=y, cmap=plt.cm.Paired, alpha= 0.8)\n",
    "plt.xlim(xx.min(), xx.max())\n",
    "plt.show()\n"
   ]
  },
  {
   "cell_type": "code",
   "execution_count": 62,
   "id": "0e3dd947-e41d-4665-9e67-913b24487f2c",
   "metadata": {},
   "outputs": [],
   "source": [
    "from sklearn.model_selection import train_test_split\n",
    "from sklearn import metrics"
   ]
  },
  {
   "cell_type": "code",
   "execution_count": 63,
   "id": "9675864d-3d81-4d90-90db-531dcbe9df64",
   "metadata": {},
   "outputs": [],
   "source": [
    "X_train, X_test, y_train, y_test = train_test_split(iris.data, iris.target, test_size=0.3, random_state=0)"
   ]
  },
  {
   "cell_type": "code",
   "execution_count": 67,
   "id": "3081df1a-c3f6-4277-876e-e67c5f61b56d",
   "metadata": {},
   "outputs": [],
   "source": [
    "clf = svm.SVC(kernel='linear', random_state=None, probability=True)\n",
    "clf.fit(X_train, y_train)\n",
    "y_pred=clf.predict(X_test)"
   ]
  },
  {
   "cell_type": "code",
   "execution_count": 70,
   "id": "d7fc295d-9c09-4b8f-b704-96dd3cfd35c6",
   "metadata": {},
   "outputs": [
    {
     "name": "stdout",
     "output_type": "stream",
     "text": [
      "Accuracy 0.9777777777777777\n",
      "Precision [1.         1.         0.91666667]\n",
      "Recall [1.         0.94444444 1.        ]\n"
     ]
    }
   ],
   "source": [
    "print(\"Accuracy\", metrics.accuracy_score(y_test, y_pred))\n",
    "print(\"Precision\", metrics.precision_score(y_test, y_pred, average=None))\n",
    "print(\"Recall\", metrics.recall_score(y_test, y_pred, average=None))"
   ]
  },
  {
   "cell_type": "code",
   "execution_count": 74,
   "id": "f461d99a-a12e-48a7-8942-f78bf71e5898",
   "metadata": {},
   "outputs": [],
   "source": [
    "cancer = datasets.load_breast_cancer()"
   ]
  },
  {
   "cell_type": "code",
   "execution_count": 75,
   "id": "5e338fcd-5866-462a-8f6a-632ba8ba99ea",
   "metadata": {},
   "outputs": [
    {
     "data": {
      "text/plain": [
       "array([[1.799e+01, 1.038e+01, 1.228e+02, ..., 2.654e-01, 4.601e-01,\n",
       "        1.189e-01],\n",
       "       [2.057e+01, 1.777e+01, 1.329e+02, ..., 1.860e-01, 2.750e-01,\n",
       "        8.902e-02],\n",
       "       [1.969e+01, 2.125e+01, 1.300e+02, ..., 2.430e-01, 3.613e-01,\n",
       "        8.758e-02],\n",
       "       ...,\n",
       "       [1.660e+01, 2.808e+01, 1.083e+02, ..., 1.418e-01, 2.218e-01,\n",
       "        7.820e-02],\n",
       "       [2.060e+01, 2.933e+01, 1.401e+02, ..., 2.650e-01, 4.087e-01,\n",
       "        1.240e-01],\n",
       "       [7.760e+00, 2.454e+01, 4.792e+01, ..., 0.000e+00, 2.871e-01,\n",
       "        7.039e-02]])"
      ]
     },
     "execution_count": 75,
     "metadata": {},
     "output_type": "execute_result"
    }
   ],
   "source": [
    "cancer.data"
   ]
  },
  {
   "cell_type": "code",
   "execution_count": null,
   "id": "4152f47c-e001-4896-b43d-fbda442df48a",
   "metadata": {},
   "outputs": [],
   "source": []
  },
  {
   "cell_type": "code",
   "execution_count": 76,
   "id": "29b64bd3-c17d-4d87-b0c9-fc1e7aa910b7",
   "metadata": {},
   "outputs": [],
   "source": [
    "cancerBreast = datasets.load_breast_cancer()\n",
    "X = cancerBreast.data\n",
    "y = cancerBreast.target"
   ]
  },
  {
   "cell_type": "code",
   "execution_count": 77,
   "id": "ae3af7eb-243d-446a-b41c-d8d510874aae",
   "metadata": {},
   "outputs": [],
   "source": [
    "X = cancerBreast.data[:,:2]"
   ]
  },
  {
   "cell_type": "code",
   "execution_count": null,
   "id": "182a158b-a626-458d-846e-3c9504e55d86",
   "metadata": {},
   "outputs": [],
   "source": []
  }
 ],
 "metadata": {
  "kernelspec": {
   "display_name": "Python 3 (ipykernel)",
   "language": "python",
   "name": "python3"
  },
  "language_info": {
   "codemirror_mode": {
    "name": "ipython",
    "version": 3
   },
   "file_extension": ".py",
   "mimetype": "text/x-python",
   "name": "python",
   "nbconvert_exporter": "python",
   "pygments_lexer": "ipython3",
   "version": "3.9.7"
  }
 },
 "nbformat": 4,
 "nbformat_minor": 5
}
