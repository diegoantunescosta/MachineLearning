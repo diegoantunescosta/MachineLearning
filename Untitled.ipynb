{
 "cells": [
  {
   "cell_type": "markdown",
   "id": "97b15310",
   "metadata": {},
   "source": [
    "### MLP - MULTILayer Perceptron\n",
    "#### Aprendizado de maquina\n",
    "##### Objetivo: Ajustar um modelo de MLP para o data.iris"
   ]
  },
  {
   "cell_type": "code",
   "execution_count": 1,
   "id": "0c4c707d",
   "metadata": {},
   "outputs": [],
   "source": [
    "# Importar as bibliotecas\n",
    "import numpy as np\n",
    "import pandas as pd\n",
    "import matplotlib.pyplot as plt\n",
    "from sklearn.neural_network import MLPClassifier\n",
    "from sklearn.model_selection import train_test_split, learning_curve\n",
    "from sklearn import metrics, datasets\n",
    "from math import sqrt"
   ]
  },
  {
   "cell_type": "code",
   "execution_count": 2,
   "id": "1d3f36d1",
   "metadata": {},
   "outputs": [],
   "source": [
    "iris = datasets.load_iris()"
   ]
  },
  {
   "cell_type": "code",
   "execution_count": 13,
   "id": "392b2656",
   "metadata": {},
   "outputs": [],
   "source": [
    "X = iris.data\n",
    "y = iris.target"
   ]
  },
  {
   "cell_type": "code",
   "execution_count": 14,
   "id": "b7f451c9",
   "metadata": {},
   "outputs": [],
   "source": [
    "X_train, X_test, y_train,y_test = train_test_split(X,y, test_size= 0.3, random_state=0)"
   ]
  },
  {
   "cell_type": "code",
   "execution_count": 15,
   "id": "59edea21",
   "metadata": {},
   "outputs": [
    {
     "name": "stdout",
     "output_type": "stream",
     "text": [
      "Conjunto de treinamento: 105\n",
      "Conjunto de teste: 45\n"
     ]
    }
   ],
   "source": [
    "#Verificar o tamanho do conjunto de dados\n",
    "print('Conjunto de treinamento:', len(X_train))\n",
    "print('Conjunto de teste:', len(X_test))\n"
   ]
  },
  {
   "cell_type": "code",
   "execution_count": 29,
   "id": "a9bf80fb",
   "metadata": {},
   "outputs": [],
   "source": [
    "#Configurando a rede Neural Artificial\n",
    "clf = MLPClassifier(solver= 'sgd',alpha=0.0001, learning_rate_init=0.04, hidden_layer_sizes=(6,5,4),max_iter= 1000, random_state=1)"
   ]
  },
  {
   "cell_type": "code",
   "execution_count": 30,
   "id": "229de712",
   "metadata": {},
   "outputs": [
    {
     "data": {
      "text/plain": [
       "MLPClassifier(hidden_layer_sizes=(6, 5, 4), learning_rate_init=0.04,\n",
       "              max_iter=1000, random_state=1, solver='sgd')"
      ]
     },
     "execution_count": 30,
     "metadata": {},
     "output_type": "execute_result"
    }
   ],
   "source": [
    "# Ajustar o modelo (Aprendizagem)\n",
    "clf.fit(X_train, y_train)"
   ]
  },
  {
   "cell_type": "code",
   "execution_count": 31,
   "id": "abbf60bb",
   "metadata": {},
   "outputs": [],
   "source": [
    "#Fazendo Predições\n",
    "y_pred = clf.predict(X_test)"
   ]
  },
  {
   "cell_type": "code",
   "execution_count": 32,
   "id": "cd5c4462",
   "metadata": {},
   "outputs": [
    {
     "name": "stdout",
     "output_type": "stream",
     "text": [
      "Accuracy: 0.9333333333333333\n",
      "MSE: 0.06666666666666667\n",
      "RMSE: 0.2581988897471611\n",
      "              precision    recall  f1-score   support\n",
      "\n",
      "           0       1.00      1.00      1.00        16\n",
      "           1       1.00      0.86      0.92        21\n",
      "           2       0.73      1.00      0.84         8\n",
      "\n",
      "    accuracy                           0.93        45\n",
      "   macro avg       0.91      0.95      0.92        45\n",
      "weighted avg       0.95      0.93      0.94        45\n",
      "\n"
     ]
    }
   ],
   "source": [
    "#Avaliando Métricas do Modelo\n",
    "print('Accuracy:', metrics.accuracy_score(y_pred, y_test))\n",
    "print('MSE:', metrics.mean_squared_error(y_pred,y_test))\n",
    "print('RMSE:', sqrt(metrics.mean_squared_error(y_pred,y_test)))\n",
    "print(metrics.classification_report(y_pred, y_test))"
   ]
  },
  {
   "cell_type": "code",
   "execution_count": 33,
   "id": "cc335080",
   "metadata": {},
   "outputs": [],
   "source": [
    "#Curvas de Aprendizado\n",
    "train_sizes, train_scores, valid_scores = learning_curve(clf, X,y, cv=5)\n"
   ]
  },
  {
   "cell_type": "code",
   "execution_count": 35,
   "id": "e5eff0bf",
   "metadata": {},
   "outputs": [
    {
     "name": "stdout",
     "output_type": "stream",
     "text": [
      "[ 12  39  66  93 120]\n"
     ]
    }
   ],
   "source": [
    "# Quantidade de amostras\n",
    "print(train_sizes)"
   ]
  },
  {
   "cell_type": "code",
   "execution_count": 39,
   "id": "3ee6c763",
   "metadata": {},
   "outputs": [
    {
     "data": {
      "text/plain": [
       "Text(0.5, 1.0, 'Curva de Aprendizagem')"
      ]
     },
     "execution_count": 39,
     "metadata": {},
     "output_type": "execute_result"
    },
    {
     "data": {
      "image/png": "[encoded data removed]",
      "text/plain": [
       "<Figure size 432x288 with 1 Axes>"
      ]
     },
     "metadata": {
      "needs_background": "light"
     },
     "output_type": "display_data"
    }
   ],
   "source": [
    "# Grafico da Learning Curse\n",
    "param_range = np.logspace(-6,-1,5)\n",
    "train_scores_mean = np.mean(train_scores, axis=1)\n",
    "train_scores_std = np.std(train_scores, axis=1)\n",
    "train_scores_mean = np.mean(train_scores, axis=1)\n",
    "train_scores_std = np.std(train_scores, axis=1)\n",
    "\n",
    "plt.title('Curva de Aprendizagem')\n",
    "plt.xlabel('Numero de amostras')\n",
    "plt.ylabel('score')\n",
    "plt.ylim(0.0.1.1)\n",
    "\n"
   ]
  },
  {
   "cell_type": "code",
   "execution_count": null,
   "id": "7938e063",
   "metadata": {},
   "outputs": [],
   "source": []
  }
 ],
 "metadata": {
  "kernelspec": {
   "display_name": "Python 3 (ipykernel)",
   "language": "python",
   "name": "python3"
  },
  "language_info": {
   "codemirror_mode": {
    "name": "ipython",
    "version": 3
   },
   "file_extension": ".py",
   "mimetype": "text/x-python",
   "name": "python",
   "nbconvert_exporter": "python",
   "pygments_lexer": "ipython3",
   "version": "3.9.7"
  }
 },
 "nbformat": 4,
 "nbformat_minor": 5
}
