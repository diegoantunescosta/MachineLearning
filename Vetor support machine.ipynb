{
  "nbformat": 4,
  "nbformat_minor": 0,
  "metadata": {
    "colab": {
      "name": "I.A.-03.03.ipynb",
      "provenance": []
    },
    "kernelspec": {
      "name": "python3",
      "display_name": "Python 3"
    },
    "language_info": {
      "name": "python"
    }
  },
  "cells": [
    {
      "cell_type": "markdown",
      "source": [
        "**Objeto base ⬇**"
      ],
      "metadata": {
        "id": "LeXliiHFrntc"
      }
    },
    {
      "cell_type": "code",
      "execution_count": null,
      "metadata": {
        "id": "DNN7AE6JpKlK"
      },
      "outputs": [],
      "source": [
        "class Coisa:\n",
        "  def __init__ (self, estado = None):\n",
        "    self.estado = estado\n",
        "\n",
        "  def _repr_ (self):\n",
        "    #representar o objeto como string\n",
        "    return '{}'.format(getattr(self, '_name_', self._class_._name_))\n",
        "\n",
        "  def mostraEstado (self):\n",
        "    return str(self.estado)\n",
        "\n",
        "  def vivo(self):\n",
        "    return hasattr(self, 'vivo') and self.vivo"
      ]
    },
    {
      "cell_type": "markdown",
      "source": [
        "**Teste do objeto base ⬇**"
      ],
      "metadata": {
        "id": "UpvEQvo1uZKd"
      }
    },
    {
      "cell_type": "code",
      "source": [
        "c = Coisa()\n",
        "c "
      ],
      "metadata": {
        "colab": {
          "base_uri": "https://localhost:8080/"
        },
        "id": "Y7vwR4YvuYwG",
        "outputId": "b8f2bfa6-5d17-41c4-bd68-fe04258793b0"
      },
      "execution_count": null,
      "outputs": [
        {
          "output_type": "execute_result",
          "data": {
            "text/plain": [
              "<__main__.Coisa at 0x7f09b2634310>"
            ]
          },
          "metadata": {},
          "execution_count": 4
        }
      ]
    },
    {
      "cell_type": "markdown",
      "source": [
        "**Objeto agente ⬇**"
      ],
      "metadata": {
        "id": "qWp1UCHpvfVU"
      }
    },
    {
      "cell_type": "code",
      "source": [
        "class Agente(Coisa):\n",
        "  def __init__ (self, estado = None, funcaoAgente = None):\n",
        "    super().__init__(estado)\n",
        "    if funcaoAgente == None:\n",
        "      def funcaoAgente(*entradas):\n",
        "        return \"Ação Default\"\n",
        "\n",
        "    self.funcaoAgente = funcaoAgente\n",
        "    self.historicoPercepcoes = []\n",
        "\n",
        "  def percepcao(self):\n",
        "      entrada = input (\"Entre com dados: \") #Percepções\n",
        "      self.historicoPercepcoes.append(eval(entrada))  \n",
        "\n",
        "  def saida(self):\n",
        "      return self.funcaoAgente(self.historicoPercepcoes)\n"
      ],
      "metadata": {
        "id": "5vXlyTpfvkTe"
      },
      "execution_count": null,
      "outputs": []
    },
    {
      "cell_type": "markdown",
      "source": [
        "**Teste do agente ⬇**"
      ],
      "metadata": {
        "id": "xb6JxeokzVbv"
      }
    },
    {
      "cell_type": "code",
      "source": [
        "a = Agente()\n",
        "a"
      ],
      "metadata": {
        "colab": {
          "base_uri": "https://localhost:8080/"
        },
        "id": "0_rxtcL0zXCo",
        "outputId": "2793d022-1b98-41cc-d75f-34bd8ffaadf7"
      },
      "execution_count": null,
      "outputs": [
        {
          "output_type": "execute_result",
          "data": {
            "text/plain": [
              "<__main__.Agente at 0x7f09b07cfa50>"
            ]
          },
          "metadata": {},
          "execution_count": 36
        }
      ]
    },
    {
      "cell_type": "code",
      "source": [
        "a.percepcao()"
      ],
      "metadata": {
        "colab": {
          "base_uri": "https://localhost:8080/"
        },
        "id": "rEiYQp7Wzm_f",
        "outputId": "4fdfc37c-597a-4a2f-d4d8-317e2c9f1b55"
      },
      "execution_count": null,
      "outputs": [
        {
          "name": "stdout",
          "output_type": "stream",
          "text": [
            "Entre com dados: None\n"
          ]
        }
      ]
    },
    {
      "cell_type": "code",
      "source": [
        "a.historicoPercepcoes"
      ],
      "metadata": {
        "colab": {
          "base_uri": "https://localhost:8080/"
        },
        "id": "WoJupj_G1TYo",
        "outputId": "6a5085a7-754c-4512-9c1b-92a3d95d6bd9"
      },
      "execution_count": null,
      "outputs": [
        {
          "output_type": "execute_result",
          "data": {
            "text/plain": [
              "[None, None]"
            ]
          },
          "metadata": {},
          "execution_count": 40
        }
      ]
    },
    {
      "cell_type": "markdown",
      "source": [
        "**Criando a classe ambiente ⬇**"
      ],
      "metadata": {
        "id": "uimHiI_-1z4B"
      }
    },
    {
      "cell_type": "code",
      "source": [
        "class Ambiente:\n",
        "  def __init__(self, estadoInicial = None):\n",
        "    self.estado = estadoInicial\n",
        "    self.objetosNoAmbiente = []\n",
        "    self.agentes = []\n",
        "\n",
        "  def percepcao(self, agente):\n",
        "    # Define Percepção do agente\n",
        "    return None\n",
        "  \n",
        "  def adicionaAgente(self, agente):\n",
        "    self.agentes.append(agente)\n",
        "\n",
        "  def adicionaObjeto(self, obj):\n",
        "    self.objetosNoAmbiente.append(obj)"
      ],
      "metadata": {
        "id": "U5EYeiLk129f"
      },
      "execution_count": null,
      "outputs": []
    },
    {
      "cell_type": "markdown",
      "source": [
        "**Teste ambiente ⬇**"
      ],
      "metadata": {
        "id": "F6Kz2UCT5Hk4"
      }
    },
    {
      "cell_type": "code",
      "source": [
        "am = Ambiente()"
      ],
      "metadata": {
        "id": "LIcEynKT4qRB"
      },
      "execution_count": null,
      "outputs": []
    },
    {
      "cell_type": "code",
      "source": [
        "am.adicionaAgente(a)"
      ],
      "metadata": {
        "id": "07IOEfUE4u8R"
      },
      "execution_count": null,
      "outputs": []
    },
    {
      "cell_type": "code",
      "source": [
        "am.agentes"
      ],
      "metadata": {
        "colab": {
          "base_uri": "https://localhost:8080/"
        },
        "id": "p4wyS2C340hI",
        "outputId": "d21c1c2a-9b65-4d6e-a7d4-a5245dd8d43c"
      },
      "execution_count": null,
      "outputs": [
        {
          "output_type": "execute_result",
          "data": {
            "text/plain": [
              "[<__main__.Agente at 0x7f09b07cfa50>]"
            ]
          },
          "metadata": {},
          "execution_count": 46
        }
      ]
    },
    {
      "cell_type": "markdown",
      "source": [
        "**Agente para comprar dolar ⬇**"
      ],
      "metadata": {
        "id": "9_K9vNSc6glD"
      }
    },
    {
      "cell_type": "code",
      "source": [
        "serieHistoricaDolar = [5.4467,5.534,5.5524,5.6933,5.7558,5.7204,5.857,5.813,5.887,5.8864,5.8191,5.7329,5.8324,5.7155,5.5797,5.5459,5.4861,5.4875,5.3361,5.5012,5.6543,5.5915,5.5352,5.4583,5.3168,5.3175,5.2373,5.2336,5.2385,5.1636,5.2007,5.1068,5.1073,5.1241,5.2229,5.2873,5.3509,5.2536,5.2495,5.2053,5.1943,5.1005,5.0219,5.0366,5.0995,5.1446,5.064,5.096,5.1075,5.01,5.0005,4.8595,4.7916,4.8152,4.6439,4.7246,4.6272,4.6076,4.585,4.5148,4.4744,4.4736,4.4863,4.4505,4.3883,4.3883,4.3898,4.3936,4.3653,4.3559,4.3273,4.2976,4.3502,4.3552,4.3318,4.3251,4.3206,4.2825,4.2357,4.2547,4.248,4.2824,4.2432,4.2306,4.1945,4.2077,4.1817,4.1707,4.1829,4.2126,4.1902,4.162,4.1851,4.1756,4.133,4.1468,4.0963,4.0927,4.0649,4.0679,4.0618,4.0672,4.0263,4.0195,4.0195,4.0195,4.046,4.056,4.0838,4.0838,4.0835,4.1025,4.0697,4.0634,4.0719,4.0632,4.1082,4.0908,4.1242,4.147,4.1425,4.1414,4.186,4.208,4.2066,4.2234,4.2367,4.1902,4.2638,4.2332,4.2268,4.1966,4.1932,4.1965,4.1945,4.218,4.1962,4.1951,4.1704,4.1677,4.1518,4.1635,4.1007,4.0836,3.9937,4.0156,3.9903,4.0184,3.9909,3.9986,3.991,4.0038,4.0415,4.0346,4.0819,4.1293,4.1117,4.1643,4.1518,4.1807,4.1265,4.1097,4.1095,4.1104,4.0954,4.1071,4.0556,4.0841,4.1293,4.159,4.1556,4.1602,4.1711,4.149,4.165,4.1638,4.148,4.1678,4.1112,4.0777,4.081,4.0849,4.0608,4.068,4.0808,4.0953,4.0618,4.1094,4.095,4.1681,4.1871,4.1453,4.1688,4.1682,4.1311,4.1571,4.1198,4.0706,4.0269,4.0542,4.0743,4.0058,3.991,4.0526,3.966,3.9855,3.9416,3.9199,3.9691,3.9612,3.9783,3.8893,3.8403,3.8129,3.7906,3.7816,3.7761,3.779,3.7736,3.7737,3.7407,3.7494,3.7193,3.7641,3.7687,3.7567,3.7373,3.7551,3.7546,3.8005,3.8073,3.8221,3.8011,3.8272,3.8456,3.8405,3.852,3.8196,3.8445,3.848,3.8254,3.8192,3.839,3.839,3.8603,3.8883,3.8958,3.8487,3.8672,3.8571,3.8887,3.8789,3.8798,3.8811,3.8548,3.8859,3.9228,3.9818,3.9747,4.0247,4.0423,4.0225,4.0401,4.0403,4.039,4.0968,4.0999,4.0469,4.0017,3.9751,3.9939,3.9572,3.9466,3.9285,3.971,3.9695,3.9382,3.9661,3.9202,3.9215,3.9456,3.9293,3.9542,3.9927,3.9211,3.9365,3.9275,3.9274,3.9382,3.904,3.8723,3.8819,3.8582,3.8251,3.851,3.8495,3.8735,3.859,3.87,3.8537,3.8518,3.9247,3.901,3.9935,3.8773,3.8544,3.9071,3.793,3.7763,3.7891,3.7915,3.8144,3.8443,3.8147,3.8114,3.8403,3.8668,3.8704,3.8401,3.7755,3.7755,3.7752,3.7514,3.7287,3.7489,3.7521,3.7485,3.7696,3.7277,3.7231,3.7353,3.7008,3.7233,3.7544,3.7098,3.7577,3.7292,3.7167,3.6983,3.6698,3.6687,3.6597,3.644,3.685,3.7202,3.7619,3.7708,3.7733,3.7663,3.8152,3.755,3.7517,3.7504,3.7366,3.7172,3.6991,3.7113,3.7105,3.6807,3.7133,3.7356,3.7155,3.7565,3.79,3.8813,3.8813,3.8813,3.8735,3.922,3.904,3.904,3.904,3.8422,3.8977,3.9124,3.8995,3.9171,3.8911,3.8555,3.904,3.9181,3.9075,3.8793,3.8686,3.8525,3.8423,3.8669,3.8527,3.851,3.8752,3.941,3.8283,3.8045,3.7976,3.7572,3.757,3.7435,3.7843,3.7841,3.8032,3.7675,3.7335,3.7605,3.7318,3.7615,3.7262,3.6968,3.7012,3.722,3.6974,3.7187,3.6429,3.7058,3.735,3.6942,3.686,3.7149,3.7216,3.6875,3.7252,3.7357,3.783,3.7812,3.7555,3.7155,3.779,3.8413,3.8745,3.9015,3.9414,4.0181,4.0491,4.0123,4.0322,4.0757,4.0928,4.0516,4.0771,4.1315,4.1604,4.1324,4.1742,4.2077,4.1579,4.1535,4.0867,4.0597,4.059,4.1466,4.1602,4.159,4.0556,4.1495,4.1074,4.1342,4.0775,4.102,4.1155,4.0425,4.0477,3.97,3.9116,3.9072,3.9055,3.8673,3.884,3.8596,3.8015,3.7721,3.7515,3.7363,3.708,3.7503,3.7499,3.7563,3.7307,3.7114,3.7462,3.6886,3.7481,3.7826,3.7681,3.8295,3.8512,3.8388,3.8605,3.8518,3.8822,3.8773,3.8152,3.8727,3.8628,3.9327,3.9137,3.8975,3.9129,3.8771,3.8624,3.8628,3.8016,3.7767,3.786,3.7691,3.7715,3.7471,3.747,3.7296,3.806,3.7201,3.7185,3.7097,3.7094,3.9078,3.8488,3.8068,3.7468,3.7633,3.7235,3.7241,3.7254,3.7352,3.6524,3.6496,3.6288,3.6448,3.6772,3.737,3.6966,3.6761,3.654,3.6231,3.5999,3.5502,3.5924,3.5636,3.5534,3.5303,3.5282,3.5518,3.5076,3.5072,3.4568,3.4755,3.485,3.4714,3.4527,3.413,3.3885,3.3805,3.408,3.4194,3.4223,3.4133,3.3746,3.4088,3.42,3.3697,3.3449,3.3297,3.3413,3.3112,3.3051,3.306,3.3205,3.3288,3.3119,3.3123,3.3159,3.2725,3.3117,3.2862,3.2811,3.2862,3.2607,3.2607,3.2622,3.2553,3.2669,3.2454,3.2117,3.243,3.2528,3.2515,3.2462,3.2516,3.2258,3.2379,3.2502,3.2692,3.2557,3.2346,3.2312,3.2279,3.2174,3.2957,3.2954,3.2942,3.2858,3.2714,3.2348,3.2625,3.2181,3.1669,3.1859,3.1812,3.155,3.151,3.1485,3.1465,3.237,3.2021,3.1962,3.2065,3.2238,3.2243,3.2163,3.2064,3.2155,3.2283,3.2483,3.2407,3.2292,3.2346,3.237,3.2591,3.3125,3.3125,3.3125,3.315,3.3111,3.337,3.337,3.3084,3.2979,3.29,3.2923,3.2947,3.3419,3.31,3.3065,3.3048,3.2919,3.2907,3.2357,3.2418,3.2442,3.2581,3.2727,3.2461,3.2131,3.2278,3.233,3.2219,3.2243,3.2588,3.2574,3.2574,3.274,3.3133,3.3131,3.2794,3.2779,3.2521,3.2548,3.2714,3.2495,3.3144,3.268,3.2677,3.2727,3.2891,3.2363,3.2906,3.2332,3.2435,3.2378,3.1926,3.1671,3.1711,3.158,3.1712,3.1452,3.1705,3.1724,3.1795,3.1888,3.1561,3.1545,3.1351,3.1427,3.1545,3.1619,3.1825,3.1932,3.1666,3.1599,3.125,3.1377,3.1325,3.1351,3.1368,3.1085,3.119,3.1353,3.1252,3.1029,3.0867,3.0993,3.1004,3.1174,3.1417,3.1416,3.1479,3.1603,3.1652,3.167,3.1603,3.1481,3.1414,3.1611,3.1645,3.1465,3.1751,3.1524,3.1695,3.189,3.1938,3.1757,3.1559,3.1269,3.1265,3.1313,3.1126,3.1137,3.1265,3.1264,3.1319,3.153,3.1387,3.1726,3.147,3.1418,3.1208,3.149,3.1545,3.1833,3.1799,3.2138,3.2079,3.2548,3.2557,3.2813,3.2962,3.2889,3.3093,3.3015,3.3072,3.3043,3.2805,3.3135,3.2963,3.343,3.3425,3.3363,3.327,3.2828,3.2933,3.275,3.2742,3.3154,3.3181,3.2971,3.2617,3.2695,3.2778,3.2969,3.2483,3.2506,3.2266,3.2577,3.2567,3.2601,3.2736,3.2784,3.2705,3.2656,3.2529,3.371,3.138,3.0964,3.1113,3.1218,3.1403,3.1678,3.1902,3.198,3.1774,3.1885,3.1652,3.1517,3.1765,3.1766,3.1835,3.1723,3.1471,3.128,3.1482,3.1486,3.1522,3.108,3.0985,3.1448,3.1444,3.1258,3.1372,3.132,3.1462,3.1427,3.1203,3.0939,3.1147,3.1233,3.1496,3.1199,3.1412,3.1265,3.1086,3.1395,3.088,3.0884,3.0726,3.0918,3.1185,3.1037,3.1685,3.153,3.1395,3.1932,3.1631,3.1195,3.1386,3.1158,3.1565,3.09,3.1091,3.109,3.111,3.0595,3.064,3.0951,3.087,3.1048,3.0892,3.0575,3.085,3.1115,3.1157,3.1301,3.1175,3.1205,3.116,3.1176,3.124,3.1295,3.1509,3.127,3.141,3.178,3.1702,3.1702,3.1633,3.169,3.1965,3.2309,3.2115,3.2418,3.2213,3.1881,3.1975,3.1961,3.1969,3.2241,3.1991,3.2163,3.2652,3.2857,3.2547,3.2547,3.2845,3.2712,3.277,3.271,3.2875,3.327,3.3546,3.365,3.392,3.3695,3.3705,3.3355,3.3388,3.3785,3.3755,3.383,3.408,3.4215,3.4755,3.4718,3.3842,3.399,3.3859,3.4223,3.3915,3.3945,3.355,3.3525,3.3835,3.4193,3.42,3.4404,3.4331,3.3915,3.3864,3.2172,3.1695,3.202,3.2337,3.2425,3.2359,3.2367,3.1893,3.2065,3.1701,3.1409,3.1151,3.1246,3.1511,3.1433,3.1697,3.1888,3.2022,3.2051,3.178,3.2025,3.1953,3.2065,3.2204,3.2298,3.2202,3.2578,3.2105,3.2603,3.2595,3.2167,3.2346,3.2401,3.245,3.2208,3.2071,3.2589,3.2731,3.2622,3.3024,3.3426,3.3138,3.2458,3.2735,3.2143,3.193,3.1953,3.2833,3.2568,3.2582,3.2273,3.2419,3.2298,3.2655,3.2367,3.2257,3.2338,3.2014,3.2038,3.2393,3.2037,3.2027,3.1862,3.1925,3.145,3.1271,3.1456,3.1749,3.166,3.1938,3.2377,3.2571,3.2649,3.2486,3.2892,3.2637,3.2768,3.286,3.2565,3.2722,3.2591,3.249,3.2532,3.282,3.2511,3.2637,3.296,3.3094,3.3006,3.3678,3.33,3.3024,3.2695,3.2361,3.2134,3.222,3.3029,3.3926,3.3739,3.339,3.377,3.4158,3.3945,3.4163,3.4661,3.4741,3.4812,3.4827,3.4188,3.401,3.363,3.4421,3.4896,3.524,3.5926,3.6007,3.6111,3.5713,3.6116,3.5825,3.5836,3.5713,3.5728,3.5202,3.5644,3.5683,3.4888,3.5001,3.534,3.4855,3.4528,3.4758,3.5164,3.5023,3.5349,3.5473,3.5599,3.5011,3.4358,3.4878,3.5267,3.5297,3.5558,3.5646,3.5386,3.5299,3.5341,3.6155,3.5332,3.4838,3.4983,3.4928,3.4924,3.5901,3.6905,3.6413,3.6805,3.624,3.5538,3.5935,3.6002,3.6386,3.6278,3.6835,3.6771,3.6854,3.5812,3.6178,3.624,3.6267,3.7422,3.7656,3.6618,3.582,3.6215,3.6849,3.7556,3.783,3.7593,3.7991,3.8932,3.9275,4.0171,3.9933,3.956,3.9591,3.9569,3.9473,4.0214,4.0284,3.9851,4.0723,4.006,4.0027,3.9946,3.9285,3.8856,3.8954,3.9035,3.8897,3.8954,3.9895,3.9629,3.9988,4.0699,4.1077,4.0536,4.0903,4.0945,4.1575,4.0971,4.0626,4.0557,4.0479,3.9996,4.0158,4.029,4.0537,4.0245,4.0448,4.0244,4.0077,4.0402,3.9608,3.9608,3.9608,3.8655,3.8586,3.9463,3.953,3.9419,3.9899,4.0134,3.9824,3.8796,3.8848,3.873,3.8779,3.873,3.8126,3.7502,3.7962,3.7681,3.7521,3.7596,3.8352,3.8575,3.869,3.8464,3.7431,3.7425,3.7,3.733,3.7052,3.7181,3.7668,3.8105,3.8194,3.8456,3.771,3.7639,3.751,3.799,3.7713,3.7813,3.8003,3.7712,3.8507,3.8564,3.8509,3.9094,3.8883,3.906,3.8807,3.9088,3.9414,3.9073,3.8857,3.9245,3.8032,3.8119,3.8937,3.7639,3.766,3.7839,3.8838,3.8539,3.912,3.9331,4.01,3.9491,4.0634,4.1083,3.9777,3.9368,4.178,4.0497,3.9857,3.9459,3.899,3.8289,3.8634,3.815,3.8705,3.8498,3.7783,3.82,3.8387,3.8442,3.738,3.7591,3.702,3.6193,3.5823,3.551,3.5963,3.6175,3.5534,3.5007,3.457,3.4932,3.4681,3.4812,3.4845,3.5194,3.481,3.475,3.4345,3.5071,3.5361,3.4867,3.4712,3.4514,3.4212,3.3715,3.3308,3.3577,3.364,3.3556,3.286,3.2239,3.1717,3.1981,3.1881,3.1587,3.1391,3.1399,3.1348,3.1593,3.2203,3.2346,3.1867,3.1391,3.1347,3.0967,3.1498,3.103,3.1178,3.1295,3.1277,3.0979,3.076,3.0814,3.0976,3.0605,3.057,3.0885,3.13,3.1185,3.0896,3.1187,3.0966,3.1132,3.1439,3.1418,3.1345,3.1306,3.1718,3.1798,3.1624,3.1409,3.1536,3.0968,3.0949,3.0379,3.0027,3.0394,3.0076,2.9972,2.9935,3.0403,3.0206,3.0614,2.9733,3.026,3.0333,3.0536,3.0864,3.0146,3.0145,2.9612,2.9364,2.9173,2.9517,2.9707,3.0113,3.034,3.033,3.0409,3.0221,3.0294,3.0634,3.1212,3.0756,3.0591,3.0495,3.1288,3.1263,3.121,3.1205,3.1655,3.1958,3.2306,3.2496,3.1828,3.2012,3.1398,3.1322,3.2293,3.2921,3.2097,3.2395,3.2488,3.2492,3.1661,3.1257,3.1022,3.1223,3.0617,3.0035,2.9766,2.9311,2.8965,2.839,2.9085,2.875,2.833,2.8788,2.868,2.8665,2.8374,2.8296,2.8346,2.8346,2.821,2.8693,2.8343,2.7698,2.7825,2.7451,2.7418,2.6945,2.7271,2.6824,2.6035,2.5764,2.5724,2.5835,2.5797,2.5745,2.6005,2.6138,2.6517,2.621,2.6422,2.6159,2.643,2.6734,2.6301,2.663,2.6835,2.7001,2.7064,2.6941,2.6575,2.6575,2.6575,2.7027,2.6685,2.6957,2.6955,2.6946,2.6645,2.6598,2.6625,2.7154,2.7384,2.6955,2.6545,2.6498,2.6162,2.593,2.6004,2.5895,2.5915,2.5525,2.5682,2.56,2.5659,2.5304,2.5011,2.5303,2.5457,2.5153,2.5731,2.572,2.5825,2.6081,2.6018,2.5889,2.5665,2.5575,2.5528,2.5587,2.5697,2.5049,2.497,2.4966,2.4783,2.4036,2.4612,2.4613,2.5226,2.4739,2.4988,2.4873,2.4809,2.4652,2.4356,2.4728,2.4583,2.4002,2.3942,2.4295,2.3982,2.3769,2.3961,2.4238,2.4588,2.4952,2.4815,2.4462,2.447,2.42,2.4283,2.3836,2.4118,2.3984,2.3682,2.3646,2.3583,2.3325,2.3427,2.3392,2.298,2.2885,2.2868,2.2677,2.2405,2.2431,2.237,2.2435,2.2458,2.236,2.2415,2.2471,2.2618,2.2883,2.2778,2.2687,2.2623,2.2467,2.2576,2.2598,2.2666,2.2803,2.2767,2.2755,2.2812,2.2957,2.2738,2.2818,2.2584,2.2574,2.2639,2.2454,2.2305,2.2222,2.229,2.2228,2.2182,2.213,2.22,2.2255,2.2582,2.2238,2.2199,2.2107,2.2208,2.2192,2.2123,2.2123,2.224,2.2132,2.2103,2.2252,2.2018,2.2143,2.194,2.1969,2.2078,2.2252,2.218,2.2295,2.2225,2.228,2.2618,2.2343,2.2241,2.23,2.2335,2.2225,2.2277,2.2475,2.2617,2.2781,2.2805,2.2769,2.2408,2.2252,2.2325,2.2378,2.2239,2.2235,2.2153,2.2075,2.2165,2.2058,2.2146,2.2203,2.2025,2.2151,2.2145,2.2128,2.2153,2.2166,2.2292,2.2431,2.22,2.2335,2.233,2.2359,2.2237,2.2445,2.2138,2.2212,2.238,2.237,2.2372,2.2376,2.2436,2.2329,2.214,2.2184,2.2067,2.1856,2.2012,2.2189,2.236,2.2793,2.2691,2.2607]\n"
      ],
      "metadata": {
        "id": "JkEUNDV_6jSw"
      },
      "execution_count": null,
      "outputs": []
    },
    {
      "cell_type": "markdown",
      "source": [
        "**Gráfico dos valores de Dolar ⬇**"
      ],
      "metadata": {
        "id": "bcbhXlJ869-Z"
      }
    },
    {
      "cell_type": "code",
      "source": [
        "import matplotlib.pyplot as plt\n",
        "\n",
        "x = [i for i in range(len(serieHistoricaDolar))]\n",
        "y = list(reversed(serieHistoricaDolar))"
      ],
      "metadata": {
        "id": "jplG6SKh7B_R"
      },
      "execution_count": null,
      "outputs": []
    },
    {
      "cell_type": "markdown",
      "source": [
        "**Criar gráfico ⬇**"
      ],
      "metadata": {
        "id": "H9dsEnOm7jX5"
      }
    },
    {
      "cell_type": "code",
      "source": [
        "plt.plot(x,y)\n",
        "plt.xlabel (\"Período (dias)\")\n",
        "plt.ylabel(\"valor Dolar em reais\")\n",
        "plt.title(\"Variação do Dolar\")\n",
        "plt.show"
      ],
      "metadata": {
        "colab": {
          "base_uri": "https://localhost:8080/",
          "height": 312
        },
        "id": "sExCH3cQ7eQg",
        "outputId": "a344539c-48a2-40fb-91f5-247f9b0795bc"
      },
      "execution_count": null,
      "outputs": [
        {
          "output_type": "execute_result",
          "data": {
            "text/plain": [
              "<function matplotlib.pyplot.show>"
            ]
          },
          "metadata": {},
          "execution_count": 54
        },
        {
          "output_type": "display_data",
          "data": {
            "image/png": "[encoded data removed]",
            "text/plain": [
              "<Figure size 432x288 with 1 Axes>"
            ]
          },
          "metadata": {
            "needs_background": "light"
          }
        }
      ]
    },
    {
      "cell_type": "markdown",
      "source": [
        "**Função da média movel ⬇**"
      ],
      "metadata": {
        "id": "Zkoi1AtHDXRA"
      }
    },
    {
      "cell_type": "code",
      "source": [
        "def mediasMoveis (serie):\n",
        "  medias = []\n",
        "  for i,v in enumerate(serie):\n",
        "    if i ==0:\n",
        "        m = v\n",
        "        medias.append(m)\n",
        "    else:\n",
        "        m = m + (v -m) / (i+2)\n",
        "        medias.append(m)\n",
        "  return medias"
      ],
      "metadata": {
        "id": "Iyc37Mh_DaJv"
      },
      "execution_count": null,
      "outputs": []
    },
    {
      "cell_type": "markdown",
      "source": [
        "**Criar gráfico ⬇**"
      ],
      "metadata": {
        "id": "IoMfnWjqEFq8"
      }
    },
    {
      "cell_type": "code",
      "source": [
        "plt.plot(x,y)\n",
        "plt.plot(x, mediasMoveis(y), label = \"Media Movel\")\n",
        "plt.xlabel (\"Período (dias)\")\n",
        "plt.ylabel(\"valor Dolar em reais\")\n",
        "plt.title(\"Variação do Dolar\")\n",
        "plt.legend(loc=\"lower right\")\n",
        "plt.show()"
      ],
      "metadata": {
        "colab": {
          "base_uri": "https://localhost:8080/",
          "height": 295
        },
        "id": "zlO3DXLjEIEt",
        "outputId": "5f5d759d-3d6e-43ea-e97d-ca1bd7118957"
      },
      "execution_count": null,
      "outputs": [
        {
          "output_type": "display_data",
          "data": {
            "image/png": "[encoded data removed]",
            "text/plain": [
              "<Figure size 432x288 with 1 Axes>"
            ]
          },
          "metadata": {
            "needs_background": "light"
          }
        }
      ]
    },
    {
      "cell_type": "markdown",
      "source": [
        "**Função do agente (comprar abaixo da média e vender acima)**"
      ],
      "metadata": {
        "id": "PgiD9abKF7ou"
      }
    },
    {
      "cell_type": "code",
      "source": [
        "def funcaoAgenteCompraDolar(media, valor):\n",
        "    if valor >= media:\n",
        "       return False, valor, media\n",
        "    else:\n",
        "       return True, valor, media"
      ],
      "metadata": {
        "id": "X9XelXO9GBnm"
      },
      "execution_count": null,
      "outputs": []
    },
    {
      "cell_type": "code",
      "source": [
        "class AgenteCambio(Agente):\n",
        "  def __init__(self, estadoInicial = None, funcaoAgente = None):\n",
        "    super().__init__(estadoInicial, funcaoAgente)\n",
        "    self.observacao = 0\n",
        "    self.mediaAtual = 0\n",
        "    self.medias = []\n",
        "\n",
        "  def atualizaEstado(self, valor):\n",
        "    self.observacao += 1\n",
        "    if self.observacao ==1:\n",
        "      self.mediaAtual = valor\n",
        "    else:\n",
        "      self.mediaAtual = self.mediaAtual + (valor - self.mediaAtual) / (self.observacao +1)\n",
        "    self.estado.append(valor)\n",
        "    self.medias.append(self.mediaAtual)\n",
        "\n",
        "  def percepcao(self, valorAtual):\n",
        "    self.atualizaEstado(valorAtual)\n",
        "\n",
        "  def saida(self):\n",
        "    return self.funcaoAgente(self.medias[-1], self.estado[-1])"
      ],
      "metadata": {
        "id": "nTG87aHkHVvf"
      },
      "execution_count": null,
      "outputs": []
    },
    {
      "cell_type": "markdown",
      "source": [
        "**Testando o agente**"
      ],
      "metadata": {
        "id": "mynDYO2iK_Mg"
      }
    },
    {
      "cell_type": "code",
      "source": [
        "ac = AgenteCambio([],funcaoAgenteCompraDolar)\n",
        "for i in y [:10]:\n",
        "    ac.percepcao(i)\n",
        "    print(ac.saida(), end=\",\")"
      ],
      "metadata": {
        "colab": {
          "base_uri": "https://localhost:8080/"
        },
        "id": "ya7QZKT9LBSw",
        "outputId": "b62adbc6-e1e4-4aef-f81c-ea43cf3f7aa8"
      },
      "execution_count": null,
      "outputs": [
        {
          "output_type": "stream",
          "name": "stdout",
          "text": [
            "(False, 2.2607, 2.2607),(False, 2.2691, 2.2635),(False, 2.2793, 2.26745),(True, 2.236, 2.2611600000000003),(True, 2.2189, 2.254116666666667),(True, 2.2012, 2.246557142857143),(True, 2.1856, 2.2389375000000005),(True, 2.2067, 2.235355555555556),(True, 2.2184, 2.2336600000000004),(True, 2.214, 2.2318727272727275),"
          ]
        }
      ]
    },
    {
      "cell_type": "markdown",
      "source": [
        "**Agente com medida de desempenho**"
      ],
      "metadata": {
        "id": "0ghMal4SORYw"
      }
    },
    {
      "cell_type": "code",
      "source": [
        "class AgenteCambioDesempenho(AgenteCambio):\n",
        "  def __init__(self, estadoInicial, funcaoAgente = None, saldoR = 0, saldoD = 0):\n",
        "    super().__init__(estadoInicial, funcaoAgente)\n",
        "    self.saldoReal = saldoR\n",
        "    self.saldoDolar = saldoD\n",
        "    self.evolucaoReal = []\n",
        "\n",
        "  def comprar(self): #atuador comprar\n",
        "    if self.saldoReal >0:\n",
        "      self.saldoDolar += self.saldoReal/self.estado[-1]\n",
        "      self.saldoReal = 0\n",
        "\n",
        "  def vender(self):\n",
        "    if self.saldoDolar >0: #atuador vender\n",
        "      self.saldoReal += self.saldoDolar * self.estado [-1]\n",
        "      self.saldoDolar = 0\n",
        "    self.evolucaoReal.append(self.saldoReal)\n",
        "\n",
        "  def desempenho(self): #performance lucro\n",
        "    print(\"Desempenho\")\n",
        "    return self.evolucaoReal[-1] - self.evolucaoReal[0]\n"
      ],
      "metadata": {
        "id": "hLtd9lyIOUpy"
      },
      "execution_count": null,
      "outputs": []
    },
    {
      "cell_type": "markdown",
      "source": [
        "**Configurando ambiente**"
      ],
      "metadata": {
        "id": "JfbntJNWRtqB"
      }
    },
    {
      "cell_type": "code",
      "source": [
        "class AmbienteFinanceiro (Ambiente):\n",
        "  def __init__ (self, estadoInicial):\n",
        "    super().__init__(estadoInicial)\n",
        "\n",
        "  def percepcao(self, agente): #ambiente notifica o agente\n",
        "    for i in self.estado:\n",
        "      for ag in agente:\n",
        "        ag.percebe(i)\n",
        "      return\n",
        "      \n",
        "  def executaAmbiente(self):\n",
        "    for gst in self.estado:\n",
        "      for ag in self.agentes:\n",
        "        ag.atualizaEstado(gst)\n",
        "        acaoComprar = ag.saida()\n",
        "        if acaoComprar[0] ==True:\n",
        "          ag.comprar()\n",
        "        else:\n",
        "          ag.vender()\n",
        "\n",
        "  def desemPenhoAgentes(self):\n",
        "    desempenho=[]\n",
        "    for i, ag in enumerate(self.agentes):\n",
        "      desempenho.append((i, ag.desempenho()))\n",
        "    return desempenho"
      ],
      "metadata": {
        "id": "w9utA5MuRv6B"
      },
      "execution_count": null,
      "outputs": []
    },
    {
      "cell_type": "markdown",
      "source": [
        "**Colocando os agentes para trabalhar**"
      ],
      "metadata": {
        "id": "9I95_D6-TzJR"
      }
    },
    {
      "cell_type": "code",
      "source": [
        "ag = AgenteCambioDesempenho([], funcaoAgenteCompraDolar, 1000, 0)\n",
        "amb = AmbienteFinanceiro(y)\n",
        "amb.adicionaAgente(ag)\n",
        "amb.executaAmbiente()\n",
        "desempenho = amb.desemPenhoAgentes()\n",
        "print(\"Desempenho Geral (Agente, Lucro): \", desempenho)"
      ],
      "metadata": {
        "colab": {
          "base_uri": "https://localhost:8080/"
        },
        "id": "p6skcq36T2Ep",
        "outputId": "576b29cb-080b-4991-8c13-d771ef85f20c"
      },
      "execution_count": null,
      "outputs": [
        {
          "output_type": "stream",
          "name": "stdout",
          "text": [
            "Desempenho\n",
            "Desempenho Geral (Agente, Lucro):  [(0, 219.81075377023967)]\n"
          ]
        }
      ]
    }
  ]
}