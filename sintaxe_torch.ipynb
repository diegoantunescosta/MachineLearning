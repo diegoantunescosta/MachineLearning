{
 "cells": [
  {
   "cell_type": "code",
   "execution_count": 184,
   "metadata": {},
   "outputs": [
    {
     "name": "stdout",
     "output_type": "stream",
     "text": [
      "torch.float32\n",
      "tensor([[1., 2., 3.],\n",
      "        [4., 5., 6.]])\n",
      "torch.float32\n",
      "tensor([[1., 2., 3.],\n",
      "        [4., 5., 6.]])\n",
      "torch.float64\n",
      "tensor([[1., 2., 3.],\n",
      "        [4., 5., 6.]], dtype=torch.float64)\n",
      "torch.int64\n",
      "tensor([[1, 2, 3],\n",
      "        [4, 5, 6]])\n"
     ]
    }
   ],
   "source": [
    "import torch\n",
    "\n",
    "lista = [[1,2,3],\n",
    "         [4,5,6]]\n",
    "\n",
    "tensor = torch.Tensor(lista)\n",
    "print(tensor.dtype)\n",
    "print (tensor)\n",
    "\n",
    "tensor = torch.FloatTensor(lista)\n",
    "print(tensor.dtype)\n",
    "print (tensor)\n",
    "\n",
    "tensor = torch.DoubleTensor(lista)\n",
    "print(tensor.dtype)\n",
    "print (tensor)\n",
    "\n",
    "tensor = torch.LongTensor(lista)\n",
    "print(tensor.dtype)\n",
    "print (tensor)"
   ]
  },
  {
   "cell_type": "code",
   "execution_count": 185,
   "metadata": {},
   "outputs": [
    {
     "name": "stdout",
     "output_type": "stream",
     "text": [
      "[[0.52866845 0.20565701 0.55459637 0.17441963]\n",
      " [0.93254457 0.13502775 0.6870469  0.81158833]\n",
      " [0.26953288 0.4296193  0.22428246 0.6874911 ]]\n",
      "float64\n",
      "tensor([[0.5287, 0.2057, 0.5546, 0.1744],\n",
      "        [0.9325, 0.1350, 0.6870, 0.8116],\n",
      "        [0.2695, 0.4296, 0.2243, 0.6875]], dtype=torch.float64)\n",
      "torch.float64\n"
     ]
    }
   ],
   "source": [
    "import numpy as np\n",
    "\n",
    "\n",
    "arr = np.random.rand(3,4)\n",
    "tns = torch.from_numpy(arr)\n",
    "print(arr)\n",
    "print(arr.dtype)\n",
    "print(tns)\n",
    "print(tns.dtype)"
   ]
  },
  {
   "cell_type": "code",
   "execution_count": 186,
   "metadata": {},
   "outputs": [
    {
     "name": "stdout",
     "output_type": "stream",
     "text": [
      "tensor([[1., 1., 1.],\n",
      "        [1., 1., 1.]])\n",
      "tensor([[0., 0., 0., 0., 0.],\n",
      "        [0., 0., 0., 0., 0.],\n",
      "        [0., 0., 0., 0., 0.],\n",
      "        [0., 0., 0., 0., 0.]])\n",
      "tensor([[ 0.3996, -0.9074, -0.5744],\n",
      "        [ 0.6948, -1.1040, -0.8097],\n",
      "        [-1.1103,  0.9318,  0.6147]])\n"
     ]
    }
   ],
   "source": [
    "tns1 = torch.ones(2,3)\n",
    "tns0 = torch.zeros(4,5)\n",
    "tnsr = torch.randn(3,3)\n",
    "\n",
    "print(tns1)\n",
    "print(tns0)\n",
    "print(tnsr)\n"
   ]
  },
  {
   "cell_type": "code",
   "execution_count": 187,
   "metadata": {},
   "outputs": [
    {
     "name": "stdout",
     "output_type": "stream",
     "text": [
      "[[ 0.39964616 -0.9074388  -0.57438624]\n",
      " [ 0.69477415 -1.1040308  -0.8097354 ]\n",
      " [-1.1103017   0.9317609   0.6146655 ]]\n"
     ]
    }
   ],
   "source": [
    "# Tensor para array numpy\n",
    "\n",
    "arr= tnsr.data.numpy()\n",
    "print (arr)"
   ]
  },
  {
   "cell_type": "code",
   "execution_count": 188,
   "metadata": {},
   "outputs": [
    {
     "name": "stdout",
     "output_type": "stream",
     "text": [
      "tensor([[ 0.3996, -0.9074, -0.5744],\n",
      "        [ 0.6948, -1.1040, -0.8097],\n",
      "        [-1.1103,  0.9318,  0.6147]]) \n",
      "\n",
      "tensor([[  0.3996,  -0.9074,  -0.5744],\n",
      "        [  0.6948,  -1.1040, -10.0000],\n",
      "        [ -1.1103,   0.9318,   0.6147]]) \n",
      "\n",
      "tensor([[  0.6948,  -1.1040, -10.0000],\n",
      "        [ -1.1103,   0.9318,   0.6147]])\n",
      "tensor(-0.5744)\n"
     ]
    }
   ],
   "source": [
    "print (tnsr,'\\n')\n",
    "# contagem de linhas\n",
    "tnsr[1,2]= -10\n",
    "\n",
    "print(tnsr,'\\n')\n",
    "# contagem de linhas/colunas\n",
    "print(tnsr[1:3])\n",
    "\n",
    "# buscar único elemento\n",
    "\n",
    "print(tnsr[0,2])"
   ]
  },
  {
   "cell_type": "code",
   "execution_count": 189,
   "metadata": {},
   "outputs": [
    {
     "name": "stdout",
     "output_type": "stream",
     "text": [
      "torch.Size([2, 3])\n",
      "torch.Size([2, 3]) \n",
      "\n",
      "tensor([[  0.3996,  -0.9074,  -0.5744],\n",
      "        [  0.6948,  -1.1040, -10.0000]])\n",
      "tensor([[1., 1., 1.],\n",
      "        [1., 1., 1.]]) \n",
      "\n",
      "tensor([[ 1.3996,  0.0926,  0.4256],\n",
      "        [ 1.6948, -0.1040, -9.0000]]) \n",
      "\n",
      "tensor([[ -1.0822, -10.4093],\n",
      "        [ -1.0822, -10.4093]])\n"
     ]
    }
   ],
   "source": [
    "tns = tnsr[0:2,:]\n",
    "#Consultar dimensoes através do shape\n",
    "print(tns.shape)\n",
    "print(tns1.shape,'\\n')\n",
    "\n",
    "#verificando valores\n",
    "print(tns)\n",
    "print(tns1,'\\n')\n",
    "\n",
    "print(tns+tns1,'\\n')\n",
    "\n",
    "# multiplicação de matrizes (Produto Interno)\n",
    "\n",
    "print(torch.mm(tns1,tns.T))"
   ]
  }
 ],
 "metadata": {
  "kernelspec": {
   "display_name": "Python 3.9.12 ('base')",
   "language": "python",
   "name": "python3"
  },
  "language_info": {
   "codemirror_mode": {
    "name": "ipython",
    "version": 3
   },
   "file_extension": ".py",
   "mimetype": "text/x-python",
   "name": "python",
   "nbconvert_exporter": "python",
   "pygments_lexer": "ipython3",
   "version": "3.9.12"
  },
  "orig_nbformat": 4,
  "vscode": {
   "interpreter": {
    "hash": "c9c95a542e0787f57613780817cff22e65fe979e702b6d9a424a45d54043f1a4"
   }
  }
 },
 "nbformat": 4,
 "nbformat_minor": 2
}
