{
 "cells": [
  {
   "cell_type": "code",
   "execution_count": 272,
   "metadata": {},
   "outputs": [
    {
     "name": "stdout",
     "output_type": "stream",
     "text": [
      "torch.float32\n",
      "tensor([[1., 2., 3.],\n",
      "        [4., 5., 6.]])\n",
      "torch.float32\n",
      "tensor([[1., 2., 3.],\n",
      "        [4., 5., 6.]])\n",
      "torch.float64\n",
      "tensor([[1., 2., 3.],\n",
      "        [4., 5., 6.]], dtype=torch.float64)\n",
      "torch.int64\n",
      "tensor([[1, 2, 3],\n",
      "        [4, 5, 6]])\n"
     ]
    }
   ],
   "source": [
    "import torch\n",
    "\n",
    "lista = [[1,2,3],\n",
    "         [4,5,6]]\n",
    "\n",
    "tensor = torch.Tensor(lista)\n",
    "print(tensor.dtype)\n",
    "print (tensor)\n",
    "\n",
    "tensor = torch.FloatTensor(lista)\n",
    "print(tensor.dtype)\n",
    "print (tensor)\n",
    "\n",
    "tensor = torch.DoubleTensor(lista)\n",
    "print(tensor.dtype)\n",
    "print (tensor)\n",
    "\n",
    "tensor = torch.LongTensor(lista)\n",
    "print(tensor.dtype)\n",
    "print (tensor)"
   ]
  },
  {
   "cell_type": "code",
   "execution_count": 273,
   "metadata": {},
   "outputs": [
    {
     "name": "stdout",
     "output_type": "stream",
     "text": [
      "[[0.8910989  0.08611907 0.59880919 0.99380896]\n",
      " [0.15043112 0.39039783 0.43502075 0.53226844]\n",
      " [0.38005692 0.69393742 0.88158421 0.74953358]]\n",
      "float64\n",
      "tensor([[0.8911, 0.0861, 0.5988, 0.9938],\n",
      "        [0.1504, 0.3904, 0.4350, 0.5323],\n",
      "        [0.3801, 0.6939, 0.8816, 0.7495]], dtype=torch.float64)\n",
      "torch.float64\n"
     ]
    }
   ],
   "source": [
    "import numpy as np\n",
    "\n",
    "\n",
    "arr = np.random.rand(3,4)\n",
    "tns = torch.from_numpy(arr)\n",
    "print(arr)\n",
    "print(arr.dtype)\n",
    "print(tns)\n",
    "print(tns.dtype)"
   ]
  },
  {
   "cell_type": "code",
   "execution_count": 274,
   "metadata": {},
   "outputs": [
    {
     "name": "stdout",
     "output_type": "stream",
     "text": [
      "tensor([[1., 1., 1.],\n",
      "        [1., 1., 1.]])\n",
      "tensor([[0., 0., 0., 0., 0.],\n",
      "        [0., 0., 0., 0., 0.],\n",
      "        [0., 0., 0., 0., 0.],\n",
      "        [0., 0., 0., 0., 0.]])\n",
      "tensor([[ 0.2594, -0.7803,  0.2555],\n",
      "        [-0.6198, -2.1472,  1.8741],\n",
      "        [ 0.1568, -0.4720,  0.4224]])\n"
     ]
    }
   ],
   "source": [
    "tns1 = torch.ones(2,3)\n",
    "tns0 = torch.zeros(4,5)\n",
    "tnsr = torch.randn(3,3)\n",
    "\n",
    "print(tns1)\n",
    "print(tns0)\n",
    "print(tnsr)\n"
   ]
  },
  {
   "cell_type": "code",
   "execution_count": 275,
   "metadata": {},
   "outputs": [
    {
     "name": "stdout",
     "output_type": "stream",
     "text": [
      "[[ 0.2594368  -0.7802585   0.25552714]\n",
      " [-0.6198432  -2.1471741   1.8740572 ]\n",
      " [ 0.15684335 -0.47197786  0.42235997]]\n"
     ]
    }
   ],
   "source": [
    "# Tensor para array numpy\n",
    "\n",
    "arr= tnsr.data.numpy()\n",
    "print (arr)"
   ]
  },
  {
   "cell_type": "code",
   "execution_count": 276,
   "metadata": {},
   "outputs": [
    {
     "name": "stdout",
     "output_type": "stream",
     "text": [
      "tensor([[ 0.2594, -0.7803,  0.2555],\n",
      "        [-0.6198, -2.1472,  1.8741],\n",
      "        [ 0.1568, -0.4720,  0.4224]]) \n",
      "\n",
      "tensor([[  0.2594,  -0.7803,   0.2555],\n",
      "        [ -0.6198,  -2.1472, -10.0000],\n",
      "        [  0.1568,  -0.4720,   0.4224]]) \n",
      "\n",
      "tensor([[ -0.6198,  -2.1472, -10.0000],\n",
      "        [  0.1568,  -0.4720,   0.4224]])\n",
      "tensor(0.2555)\n"
     ]
    }
   ],
   "source": [
    "print (tnsr,'\\n')\n",
    "# contagem de linhas\n",
    "tnsr[1,2]= -10\n",
    "\n",
    "print(tnsr,'\\n')\n",
    "# contagem de linhas/colunas\n",
    "print(tnsr[1:3])\n",
    "\n",
    "# buscar único elemento\n",
    "\n",
    "print(tnsr[0,2])"
   ]
  },
  {
   "cell_type": "code",
   "execution_count": 277,
   "metadata": {},
   "outputs": [
    {
     "name": "stdout",
     "output_type": "stream",
     "text": [
      "torch.Size([2, 3])\n",
      "torch.Size([2, 3]) \n",
      "\n",
      "tensor([[  0.2594,  -0.7803,   0.2555],\n",
      "        [ -0.6198,  -2.1472, -10.0000]])\n",
      "tensor([[1., 1., 1.],\n",
      "        [1., 1., 1.]]) \n",
      "\n",
      "tensor([[ 1.2594,  0.2197,  1.2555],\n",
      "        [ 0.3802, -1.1472, -9.0000]]) \n",
      "\n",
      "tensor([[ -0.2653, -12.7670],\n",
      "        [ -0.2653, -12.7670]])\n"
     ]
    }
   ],
   "source": [
    "tns = tnsr[0:2,:]\n",
    "#Consultar dimensoes através do shape\n",
    "print(tns.shape)\n",
    "print(tns1.shape,'\\n')\n",
    "\n",
    "#verificando valores\n",
    "print(tns)\n",
    "print(tns1,'\\n')\n",
    "\n",
    "print(tns+tns1,'\\n')\n",
    "\n",
    "# multiplicação de matrizes (Produto Interno)\n",
    "\n",
    "print(torch.mm(tns1,tns.T))"
   ]
  },
  {
   "cell_type": "code",
   "execution_count": 278,
   "metadata": {},
   "outputs": [
    {
     "name": "stdout",
     "output_type": "stream",
     "text": [
      "tensor([[[ 0.6859, -0.3431,  1.9589],\n",
      "         [ 0.1078, -0.3114, -0.5627]],\n",
      "\n",
      "        [[ 1.6840,  0.0720, -1.0129],\n",
      "         [ 0.4731,  0.1749, -0.2145]]]) \n",
      "\n",
      "torch.Size([2, 2, 3]) \n",
      "\n",
      "tensor([[ 0.6859, -0.3431,  1.9589,  0.1078, -0.3114, -0.5627],\n",
      "        [ 1.6840,  0.0720, -1.0129,  0.4731,  0.1749, -0.2145]])\n"
     ]
    }
   ],
   "source": [
    "#achatamento das dimensões\n",
    "\n",
    "tns= torch.randn(2,2,3)\n",
    "print(tns,'\\n')\n",
    "\n",
    "print (tns.size(),'\\n')\n",
    "\n",
    "tns = tns.view(tns.size(0), -1)\n",
    "print (tns)\n"
   ]
  },
  {
   "cell_type": "code",
   "execution_count": 279,
   "metadata": {},
   "outputs": [
    {
     "name": "stdout",
     "output_type": "stream",
     "text": [
      "device : cpu\n",
      "tensor([[  0.2594,  -0.7803,   0.2555],\n",
      "        [ -0.6198,  -2.1472, -10.0000],\n",
      "        [  0.1568,  -0.4720,   0.4224]])\n"
     ]
    }
   ],
   "source": [
    "# Verificando a disponibilidade da GPU\n",
    "\n",
    "\n",
    "if torch.cuda.is_available():\n",
    "    device = torch.device('cuda - GPU')\n",
    "else:\n",
    "    device =torch.device('cpu')\n",
    "print('device :',device)\n",
    "\n",
    "\n",
    "tnsr = tnsr.to(device)\n",
    "print(tnsr)"
   ]
  }
 ],
 "metadata": {
  "kernelspec": {
   "display_name": "Python 3.9.12 ('base')",
   "language": "python",
   "name": "python3"
  },
  "language_info": {
   "codemirror_mode": {
    "name": "ipython",
    "version": 3
   },
   "file_extension": ".py",
   "mimetype": "text/x-python",
   "name": "python",
   "nbconvert_exporter": "python",
   "pygments_lexer": "ipython3",
   "version": "3.9.12"
  },
  "orig_nbformat": 4,
  "vscode": {
   "interpreter": {
    "hash": "c9c95a542e0787f57613780817cff22e65fe979e702b6d9a424a45d54043f1a4"
   }
  }
 },
 "nbformat": 4,
 "nbformat_minor": 2
}
