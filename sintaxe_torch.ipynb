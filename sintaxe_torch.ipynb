{
 "cells": [
  {
   "cell_type": "code",
   "execution_count": 197,
   "metadata": {},
   "outputs": [
    {
     "name": "stdout",
     "output_type": "stream",
     "text": [
      "torch.float32\n",
      "tensor([[1., 2., 3.],\n",
      "        [4., 5., 6.]])\n",
      "torch.float32\n",
      "tensor([[1., 2., 3.],\n",
      "        [4., 5., 6.]])\n",
      "torch.float64\n",
      "tensor([[1., 2., 3.],\n",
      "        [4., 5., 6.]], dtype=torch.float64)\n",
      "torch.int64\n",
      "tensor([[1, 2, 3],\n",
      "        [4, 5, 6]])\n"
     ]
    }
   ],
   "source": [
    "import torch\n",
    "\n",
    "lista = [[1,2,3],\n",
    "         [4,5,6]]\n",
    "\n",
    "tensor = torch.Tensor(lista)\n",
    "print(tensor.dtype)\n",
    "print (tensor)\n",
    "\n",
    "tensor = torch.FloatTensor(lista)\n",
    "print(tensor.dtype)\n",
    "print (tensor)\n",
    "\n",
    "tensor = torch.DoubleTensor(lista)\n",
    "print(tensor.dtype)\n",
    "print (tensor)\n",
    "\n",
    "tensor = torch.LongTensor(lista)\n",
    "print(tensor.dtype)\n",
    "print (tensor)"
   ]
  },
  {
   "cell_type": "code",
   "execution_count": 198,
   "metadata": {},
   "outputs": [
    {
     "name": "stdout",
     "output_type": "stream",
     "text": [
      "[[0.59569595 0.69265086 0.69552088 0.61404324]\n",
      " [0.91853664 0.75766493 0.11736567 0.97184527]\n",
      " [0.80449526 0.047281   0.94683493 0.39550287]]\n",
      "float64\n",
      "tensor([[0.5957, 0.6927, 0.6955, 0.6140],\n",
      "        [0.9185, 0.7577, 0.1174, 0.9718],\n",
      "        [0.8045, 0.0473, 0.9468, 0.3955]], dtype=torch.float64)\n",
      "torch.float64\n"
     ]
    }
   ],
   "source": [
    "import numpy as np\n",
    "\n",
    "\n",
    "arr = np.random.rand(3,4)\n",
    "tns = torch.from_numpy(arr)\n",
    "print(arr)\n",
    "print(arr.dtype)\n",
    "print(tns)\n",
    "print(tns.dtype)"
   ]
  },
  {
   "cell_type": "code",
   "execution_count": 199,
   "metadata": {},
   "outputs": [
    {
     "name": "stdout",
     "output_type": "stream",
     "text": [
      "tensor([[1., 1., 1.],\n",
      "        [1., 1., 1.]])\n",
      "tensor([[0., 0., 0., 0., 0.],\n",
      "        [0., 0., 0., 0., 0.],\n",
      "        [0., 0., 0., 0., 0.],\n",
      "        [0., 0., 0., 0., 0.]])\n",
      "tensor([[ 0.1516,  1.3163,  0.3786],\n",
      "        [ 0.3894,  0.0117, -0.0322],\n",
      "        [-0.4052, -0.5146,  0.3377]])\n"
     ]
    }
   ],
   "source": [
    "tns1 = torch.ones(2,3)\n",
    "tns0 = torch.zeros(4,5)\n",
    "tnsr = torch.randn(3,3)\n",
    "\n",
    "print(tns1)\n",
    "print(tns0)\n",
    "print(tnsr)\n"
   ]
  },
  {
   "cell_type": "code",
   "execution_count": 200,
   "metadata": {},
   "outputs": [
    {
     "name": "stdout",
     "output_type": "stream",
     "text": [
      "[[ 0.15159723  1.3162584   0.37858558]\n",
      " [ 0.38938278  0.01168246 -0.03215717]\n",
      " [-0.4051939  -0.5145935   0.33771154]]\n"
     ]
    }
   ],
   "source": [
    "# Tensor para array numpy\n",
    "\n",
    "arr= tnsr.data.numpy()\n",
    "print (arr)"
   ]
  },
  {
   "cell_type": "code",
   "execution_count": 201,
   "metadata": {},
   "outputs": [
    {
     "name": "stdout",
     "output_type": "stream",
     "text": [
      "tensor([[ 0.1516,  1.3163,  0.3786],\n",
      "        [ 0.3894,  0.0117, -0.0322],\n",
      "        [-0.4052, -0.5146,  0.3377]]) \n",
      "\n",
      "tensor([[  0.1516,   1.3163,   0.3786],\n",
      "        [  0.3894,   0.0117, -10.0000],\n",
      "        [ -0.4052,  -0.5146,   0.3377]]) \n",
      "\n",
      "tensor([[  0.3894,   0.0117, -10.0000],\n",
      "        [ -0.4052,  -0.5146,   0.3377]])\n",
      "tensor(0.3786)\n"
     ]
    }
   ],
   "source": [
    "print (tnsr,'\\n')\n",
    "# contagem de linhas\n",
    "tnsr[1,2]= -10\n",
    "\n",
    "print(tnsr,'\\n')\n",
    "# contagem de linhas/colunas\n",
    "print(tnsr[1:3])\n",
    "\n",
    "# buscar único elemento\n",
    "\n",
    "print(tnsr[0,2])"
   ]
  },
  {
   "cell_type": "code",
   "execution_count": 202,
   "metadata": {},
   "outputs": [
    {
     "name": "stdout",
     "output_type": "stream",
     "text": [
      "torch.Size([2, 3])\n",
      "torch.Size([2, 3]) \n",
      "\n",
      "tensor([[  0.1516,   1.3163,   0.3786],\n",
      "        [  0.3894,   0.0117, -10.0000]])\n",
      "tensor([[1., 1., 1.],\n",
      "        [1., 1., 1.]]) \n",
      "\n",
      "tensor([[ 1.1516,  2.3163,  1.3786],\n",
      "        [ 1.3894,  1.0117, -9.0000]]) \n",
      "\n",
      "tensor([[ 1.8464, -9.5989],\n",
      "        [ 1.8464, -9.5989]])\n"
     ]
    }
   ],
   "source": [
    "tns = tnsr[0:2,:]\n",
    "#Consultar dimensoes através do shape\n",
    "print(tns.shape)\n",
    "print(tns1.shape,'\\n')\n",
    "\n",
    "#verificando valores\n",
    "print(tns)\n",
    "print(tns1,'\\n')\n",
    "\n",
    "print(tns+tns1,'\\n')\n",
    "\n",
    "# multiplicação de matrizes (Produto Interno)\n",
    "\n",
    "print(torch.mm(tns1,tns.T))"
   ]
  },
  {
   "cell_type": "code",
   "execution_count": 205,
   "metadata": {},
   "outputs": [
    {
     "name": "stdout",
     "output_type": "stream",
     "text": [
      "tensor([[[-0.4083, -0.7810,  0.2505],\n",
      "         [-0.3859,  1.7827, -0.4887]],\n",
      "\n",
      "        [[-2.2226, -0.4203, -0.8046],\n",
      "         [ 0.4125, -0.9118,  0.7292]]]) \n",
      "\n",
      "torch.Size([2, 2, 3]) \n",
      "\n",
      "tensor([[-0.4083, -0.7810,  0.2505, -0.3859,  1.7827, -0.4887],\n",
      "        [-2.2226, -0.4203, -0.8046,  0.4125, -0.9118,  0.7292]])\n"
     ]
    }
   ],
   "source": [
    "#achatamento das dimensões\n",
    "\n",
    "tns= torch.randn(2,2,3)\n",
    "print(tns,'\\n')\n",
    "\n",
    "print (tns.size(),'\\n')\n",
    "\n",
    "tns = tns.view(tns.size(0), -1)\n",
    "print (tns)\n"
   ]
  }
 ],
 "metadata": {
  "kernelspec": {
   "display_name": "Python 3.9.12 ('base')",
   "language": "python",
   "name": "python3"
  },
  "language_info": {
   "codemirror_mode": {
    "name": "ipython",
    "version": 3
   },
   "file_extension": ".py",
   "mimetype": "text/x-python",
   "name": "python",
   "nbconvert_exporter": "python",
   "pygments_lexer": "ipython3",
   "version": "3.9.12"
  },
  "orig_nbformat": 4,
  "vscode": {
   "interpreter": {
    "hash": "c9c95a542e0787f57613780817cff22e65fe979e702b6d9a424a45d54043f1a4"
   }
  }
 },
 "nbformat": 4,
 "nbformat_minor": 2
}
