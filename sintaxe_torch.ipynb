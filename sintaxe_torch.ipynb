{
 "cells": [
  {
   "cell_type": "code",
   "execution_count": 3,
   "metadata": {},
   "outputs": [
    {
     "name": "stdout",
     "output_type": "stream",
     "text": [
      "torch.float32\n",
      "tensor([[1., 2., 3.],\n",
      "        [4., 5., 6.]])\n",
      "torch.float32\n",
      "tensor([[1., 2., 3.],\n",
      "        [4., 5., 6.]])\n",
      "torch.float64\n",
      "tensor([[1., 2., 3.],\n",
      "        [4., 5., 6.]], dtype=torch.float64)\n",
      "torch.int64\n",
      "tensor([[1, 2, 3],\n",
      "        [4, 5, 6]])\n"
     ]
    }
   ],
   "source": [
    "import torch\n",
    "\n",
    "lista = [[1,2,3],\n",
    "         [4,5,6]]\n",
    "\n",
    "tensor = torch.Tensor(lista)\n",
    "print(tensor.dtype)\n",
    "print (tensor)\n",
    "\n",
    "tensor = torch.FloatTensor(lista)\n",
    "print(tensor.dtype)\n",
    "print (tensor)\n",
    "\n",
    "tensor = torch.DoubleTensor(lista)\n",
    "print(tensor.dtype)\n",
    "print (tensor)\n",
    "\n",
    "tensor = torch.LongTensor(lista)\n",
    "print(tensor.dtype)\n",
    "print (tensor)"
   ]
  },
  {
   "cell_type": "code",
   "execution_count": 4,
   "metadata": {},
   "outputs": [
    {
     "name": "stdout",
     "output_type": "stream",
     "text": [
      "[[0.12324313 0.49550723 0.31202767 0.61049075]\n",
      " [0.31143008 0.57507292 0.47187019 0.23950215]\n",
      " [0.80972361 0.26016943 0.67154161 0.30408015]]\n",
      "float64\n",
      "tensor([[0.1232, 0.4955, 0.3120, 0.6105],\n",
      "        [0.3114, 0.5751, 0.4719, 0.2395],\n",
      "        [0.8097, 0.2602, 0.6715, 0.3041]], dtype=torch.float64)\n",
      "torch.float64\n"
     ]
    }
   ],
   "source": [
    "import numpy as np\n",
    "\n",
    "\n",
    "arr = np.random.rand(3,4)\n",
    "tns = torch.from_numpy(arr)\n",
    "print(arr)\n",
    "print(arr.dtype)\n",
    "print(tns)\n",
    "print(tns.dtype)"
   ]
  },
  {
   "cell_type": "code",
   "execution_count": 6,
   "metadata": {},
   "outputs": [
    {
     "name": "stdout",
     "output_type": "stream",
     "text": [
      "tensor([[1., 1., 1.],\n",
      "        [1., 1., 1.]])\n",
      "tensor([[0., 0., 0., 0., 0.],\n",
      "        [0., 0., 0., 0., 0.],\n",
      "        [0., 0., 0., 0., 0.],\n",
      "        [0., 0., 0., 0., 0.]])\n",
      "tensor([[-0.3258, -0.0300, -0.1541],\n",
      "        [-1.3215, -0.2640,  1.4031],\n",
      "        [-0.3477,  0.4990, -1.3213]])\n"
     ]
    }
   ],
   "source": [
    "tns1 = torch.ones(2,3)\n",
    "tns0 = torch.zeros(4,5)\n",
    "tnsr = torch.randn(3,3)\n",
    "\n",
    "print(tns1)\n",
    "print(tns0)\n",
    "print(tnsr)"
   ]
  }
 ],
 "metadata": {
  "kernelspec": {
   "display_name": "Python 3.9.12 ('base')",
   "language": "python",
   "name": "python3"
  },
  "language_info": {
   "codemirror_mode": {
    "name": "ipython",
    "version": 3
   },
   "file_extension": ".py",
   "mimetype": "text/x-python",
   "name": "python",
   "nbconvert_exporter": "python",
   "pygments_lexer": "ipython3",
   "version": "3.9.12"
  },
  "orig_nbformat": 4,
  "vscode": {
   "interpreter": {
    "hash": "c9c95a542e0787f57613780817cff22e65fe979e702b6d9a424a45d54043f1a4"
   }
  }
 },
 "nbformat": 4,
 "nbformat_minor": 2
}
