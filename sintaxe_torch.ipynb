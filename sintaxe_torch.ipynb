{
 "cells": [
  {
   "cell_type": "code",
   "execution_count": 3,
   "metadata": {},
   "outputs": [
    {
     "name": "stdout",
     "output_type": "stream",
     "text": [
      "torch.float32\n",
      "tensor([[1., 2., 3.],\n",
      "        [4., 5., 6.]])\n",
      "torch.float32\n",
      "tensor([[1., 2., 3.],\n",
      "        [4., 5., 6.]])\n",
      "torch.float64\n",
      "tensor([[1., 2., 3.],\n",
      "        [4., 5., 6.]], dtype=torch.float64)\n",
      "torch.int64\n",
      "tensor([[1, 2, 3],\n",
      "        [4, 5, 6]])\n"
     ]
    }
   ],
   "source": [
    "import torch\n",
    "\n",
    "lista = [[1,2,3],\n",
    "         [4,5,6]]\n",
    "\n",
    "tensor = torch.Tensor(lista)\n",
    "print(tensor.dtype)\n",
    "print (tensor)\n",
    "\n",
    "tensor = torch.FloatTensor(lista)\n",
    "print(tensor.dtype)\n",
    "print (tensor)\n",
    "\n",
    "tensor = torch.DoubleTensor(lista)\n",
    "print(tensor.dtype)\n",
    "print (tensor)\n",
    "\n",
    "tensor = torch.LongTensor(lista)\n",
    "print(tensor.dtype)\n",
    "print (tensor)"
   ]
  },
  {
   "cell_type": "code",
   "execution_count": 4,
   "metadata": {},
   "outputs": [
    {
     "name": "stdout",
     "output_type": "stream",
     "text": [
      "[[0.04583734 0.41123995 0.04043862 0.57205924]\n",
      " [0.67599748 0.23686799 0.07285496 0.83517248]\n",
      " [0.07334084 0.1391744  0.78143816 0.08457977]]\n",
      "float64\n",
      "tensor([[0.0458, 0.4112, 0.0404, 0.5721],\n",
      "        [0.6760, 0.2369, 0.0729, 0.8352],\n",
      "        [0.0733, 0.1392, 0.7814, 0.0846]], dtype=torch.float64)\n",
      "torch.float64\n"
     ]
    }
   ],
   "source": [
    " add import numpy as np\n",
    "\n",
    "\n",
    "arr = np.random.rand(3,4)\n",
    "tns = torch.from_numpy(arr)\n",
    "print(arr)\n",
    "print(arr.dtype)\n",
    "print(tns)\n",
    "print(tns.dtype)"
   ]
  }
 ],
 "metadata": {
  "kernelspec": {
   "display_name": "Python 3.9.12 ('base')",
   "language": "python",
   "name": "python3"
  },
  "language_info": {
   "codemirror_mode": {
    "name": "ipython",
    "version": 3
   },
   "file_extension": ".py",
   "mimetype": "text/x-python",
   "name": "python",
   "nbconvert_exporter": "python",
   "pygments_lexer": "ipython3",
   "version": "3.9.12"
  },
  "orig_nbformat": 4,
  "vscode": {
   "interpreter": {
    "hash": "c9c95a542e0787f57613780817cff22e65fe979e702b6d9a424a45d54043f1a4"
   }
  }
 },
 "nbformat": 4,
 "nbformat_minor": 2
}
