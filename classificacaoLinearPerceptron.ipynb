{
  "cells": [
    {
      "cell_type": "markdown",
      "metadata": {
        "id": "view-in-github",
        "colab_type": "text"
      },
      "source": [
        "<a href=\"https://colab.research.google.com/github/diegoantunescosta/MachineLearning/blob/main/classificacaoLinearPerceptron.ipynb\" target=\"_parent\"><img src=\"https://colab.research.google.com/assets/colab-badge.svg\" alt=\"Open In Colab\"/></a>"
      ]
    },
    {
      "cell_type": "code",
      "execution_count": 12,
      "metadata": {
        "colab": {
          "base_uri": "https://localhost:8080/",
          "height": 265
        },
        "id": "PSdCEGf3fx0D",
        "outputId": "7dd7ead1-4c67-4ecc-a359-8e33e6911287"
      },
      "outputs": [
        {
          "output_type": "display_data",
          "data": {
            "text/plain": [
              "<Figure size 432x288 with 1 Axes>"
            ],
            "image/png": "[encoded data removed]"
          },
          "metadata": {
            "needs_background": "light"
          }
        }
      ],
      "source": [
        "import numpy as np\n",
        "import matplotlib.pyplot as plt\n",
        "\n",
        "a = -1\n",
        "b = 4\n",
        "c = 0.4\n",
        "\n",
        "# Ax + by + c = 0\n",
        "# y = (-a*x -c) /b\n",
        "\n",
        "\n",
        "\n",
        "\n",
        "def plotline(a,b,c):\n",
        "  x = np.linspace(-2,4,50)\n",
        "  y = (-a*x -c) /b\n",
        "  plt.axvline(0,-1, 1, color='k', linewidth=1)\n",
        "  plt.axvline(0,-2, 4, color='k', linewidth=1)\n",
        "  plt.plot(x, y)\n",
        "  plt.grid(True)\n",
        "\n",
        "plotline(a,b,c )"
      ]
    },
    {
      "cell_type": "code",
      "source": [
        "p1 = (2,0.4)\n",
        "p2 = (1,0.6)\n",
        "p3 = (3,-0.4)\n",
        "\n",
        "ret1 = a*p1[0] + b*p1[1] +c\n",
        "print (\"Precisão: %2f\"%ret1)\n",
        "\n",
        "plotline(a,b,c)\n",
        "plt.plot(p1[0],p1[1], color='b', marker='o')\n",
        "plt.plot(p2[0],p2[1], color='r', marker='o')\n",
        "plt.plot(p3[0],p3[1], color='g', marker='o')"
      ],
      "metadata": {
        "colab": {
          "base_uri": "https://localhost:8080/",
          "height": 300
        },
        "id": "6eP_MzfNg425",
        "outputId": "7d056b43-30bb-4df6-cf02-373ece3f5734"
      },
      "execution_count": 25,
      "outputs": [
        {
          "output_type": "stream",
          "name": "stdout",
          "text": [
            "Precisão: 0.000000\n"
          ]
        },
        {
          "output_type": "execute_result",
          "data": {
            "text/plain": [
              "[<matplotlib.lines.Line2D at 0x7fbb9e1397d0>]"
            ]
          },
          "metadata": {},
          "execution_count": 25
        },
        {
          "output_type": "display_data",
          "data": {
            "text/plain": [
              "<Figure size 432x288 with 1 Axes>"
            ],
            "image/png": "[encoded data removed]"
          },
          "metadata": {
            "needs_background": "light"
          }
        }
      ]
    },
    {
      "cell_type": "code",
      "source": [
        "ret1 = a*p1[0] + b*p1[1] +c\n",
        "print (\"Precisão ponto Azul: %2f\"%ret1)\n",
        "\n",
        "ret2 = a*p2[0] + b*p2[1] +c\n",
        "print (\"Precisão ponto Vermelho: %2f\"%ret2)\n",
        "\n",
        "ret3 = a*p3[0] + b*p3[1] +c\n",
        "print (\"Precisão ponto Verde: %2f\"%ret3)"
      ],
      "metadata": {
        "colab": {
          "base_uri": "https://localhost:8080/"
        },
        "id": "V2UQyaqIieAv",
        "outputId": "d4748b68-5c3a-4755-a4aa-911bbf421465"
      },
      "execution_count": 27,
      "outputs": [
        {
          "output_type": "stream",
          "name": "stdout",
          "text": [
            "Precisão ponto Azul: 0.000000\n",
            "Precisão ponto Vermelho: 1.800000\n",
            "Precisão ponto Verde: -4.200000\n"
          ]
        }
      ]
    }
  ],
  "metadata": {
    "kernelspec": {
      "display_name": "Python 3.8.10 64-bit",
      "language": "python",
      "name": "python3"
    },
    "language_info": {
      "codemirror_mode": {
        "name": "ipython",
        "version": 3
      },
      "file_extension": ".py",
      "mimetype": "text/x-python",
      "name": "python",
      "nbconvert_exporter": "python",
      "pygments_lexer": "ipython3",
      "version": "3.8.10"
    },
    "orig_nbformat": 4,
    "vscode": {
      "interpreter": {
        "hash": "916dbcbb3f70747c44a77c7bcd40155683ae19c65e1c03b4aa3499c5328201f1"
      }
    },
    "colab": {
      "name": "classificacaoLinearPerceptron.ipynb",
      "provenance": [],
      "collapsed_sections": [],
      "include_colab_link": true
    }
  },
  "nbformat": 4,
  "nbformat_minor": 0
}